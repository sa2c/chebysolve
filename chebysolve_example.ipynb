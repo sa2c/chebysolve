{
 "cells": [
  {
   "cell_type": "code",
   "execution_count": 2,
   "metadata": {},
   "outputs": [
    {
     "name": "stdout",
     "output_type": "stream",
     "text": [
      "env: NUMBA_NUM_THREADS=4\n"
     ]
    }
   ],
   "source": [
    "# Change this to the number of cores you have available\n",
    "%env NUMBA_NUM_THREADS=4\n",
    "\n",
    "%matplotlib inline\n",
    "\n",
    "import numpy as np\n",
    "import matplotlib.pyplot as plt\n",
    "\n",
    "from chebysolve import largest_eigenpair"
   ]
  },
  {
   "cell_type": "code",
   "execution_count": 3,
   "metadata": {},
   "outputs": [],
   "source": [
    "long_axis_size = 10_000\n",
    "short_axis_size = 25\n",
    "\n",
    "# Initialise a random generator\n",
    "random_seed = 12345\n",
    "rng = np.random.default_rng(random_seed)\n",
    "\n",
    "# Sample matrix whose product AA^T we want to eigensolve\n",
    "# Replace this with your data\n",
    "matrix = rng.integers(10, size=(long_axis_size, short_axis_size)).astype('float32')\n",
    "\n",
    "# Normalised random initial vector\n",
    "initial_eigenvector_estimate = rng.random(long_axis_size, dtype='float32')"
   ]
  },
  {
   "cell_type": "code",
   "execution_count": 7,
   "metadata": {},
   "outputs": [
    {
     "name": "stdout",
     "output_type": "stream",
     "text": [
      "Converged at largest eigenvalue 5149798.0 ± 2.6606154 after 4 iterations.\n",
      "Eigenvector available in `new_eigenvector_estimate`.\n"
     ]
    }
   ],
   "source": [
    "eigenvalue_estimates_with_errors, eigenvector_estimate, converged = largest_eigenpair(\n",
    "    matrix, initial_eigenvector_estimate\n",
    ")\n",
    "\n",
    "eigenvalue_estimate = eigenvalue_estimates_with_errors[-1][0]\n",
    "eigenvalue_error_estimate = eigenvalue_estimates_with_errors[-1][1]\n",
    "\n",
    "if converged:\n",
    "    print(\"Converged at largest eigenvalue\", eigenvalue_estimate, \n",
    "          \"±\", eigenvalue_error_estimate, \"after\", \n",
    "          len(eigenvalue_estimates_with_errors), \"iterations.\")\n",
    "    print(\"Eigenvector available in `new_eigenvector_estimate`.\")\n",
    "else:\n",
    "    print(\"Failed to converge after\", len(eigenvalue_estimates_with_errors), \"iterations.\")\n",
    "    print(\"Last estimate was\", eigenvalue_estimate, \"±\", eigenvalue_error_estimate, \".\")\n",
    "    print(\"Eigenvector estimate available in `new_eigenvector_estimate`.\")\n"
   ]
  },
  {
   "cell_type": "code",
   "execution_count": 9,
   "metadata": {},
   "outputs": [
    {
     "data": {
      "image/png": "[encoded data removed]",
      "text/plain": [
       "<Figure size 576x432 with 2 Axes>"
      ]
     },
     "metadata": {
      "needs_background": "light"
     },
     "output_type": "display_data"
    }
   ],
   "source": [
    "# Plot the history of the estimate\n",
    "\n",
    "fig, axes = plt.subplots(nrows=2, sharex=True, figsize=(8, 6))\n",
    "\n",
    "eigenvalue_estimates, eigenvalue_error_estimates = list(\n",
    "    zip(*eigenvalue_estimates_with_errors)\n",
    ")\n",
    "\n",
    "# Skip first iteration because the error bar is huge\n",
    "axes[0].plot(\n",
    "    *zip(*enumerate(eigenvalue_estimates)),\n",
    "    marker='o',\n",
    "    linestyle='None'\n",
    ")\n",
    "axes[0].set_ylabel('Largest eigenvalue')\n",
    "\n",
    "axes[1].plot(\n",
    "    *zip(*enumerate(eigenvalue_error_estimates)),\n",
    "    marker='x',\n",
    "    linestyle='None'\n",
    ")\n",
    "axes[1].set_ylabel('Error on largest eigenvalue')\n",
    "axes[1].set_yscale('log')\n",
    "axes[1].set_xlabel('Iteration')\n",
    "\n",
    "fig.tight_layout()\n",
    "plt.show()"
   ]
  },
  {
   "cell_type": "code",
   "execution_count": 7,
   "metadata": {},
   "outputs": [
    {
     "name": "stdout",
     "output_type": "stream",
     "text": [
      "14.8 s ± 104 ms per loop (mean ± std. dev. of 7 runs, 1 loop each)\n"
     ]
    }
   ],
   "source": [
    "%timeit iterate_vector(matrix, old_eigenvector_estimate)"
   ]
  },
  {
   "cell_type": "code",
   "execution_count": 9,
   "metadata": {},
   "outputs": [
    {
     "name": "stdout",
     "output_type": "stream",
     "text": [
      "2400112\n",
      "800096\n"
     ]
    }
   ],
   "source": [
    "import sys\n",
    " \n",
    "print(sys.getsizeof(matrix))\n",
    "print(sys.getsizeof(old_eigenvector_estimate))\n",
    "\n"
   ]
  },
  {
   "cell_type": "code",
   "execution_count": null,
   "metadata": {},
   "outputs": [],
   "source": []
  }
 ],
 "metadata": {
  "kernelspec": {
   "display_name": "Python 3",
   "language": "python",
   "name": "python3"
  },
  "language_info": {
   "codemirror_mode": {
    "name": "ipython",
    "version": 3
   },
   "file_extension": ".py",
   "mimetype": "text/x-python",
   "name": "python",
   "nbconvert_exporter": "python",
   "pygments_lexer": "ipython3",
   "version": "3.8.5"
  }
 },
 "nbformat": 4,
 "nbformat_minor": 4
}
